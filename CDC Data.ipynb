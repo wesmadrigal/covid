{
 "cells": [
  {
   "cell_type": "code",
   "execution_count": 3,
   "metadata": {},
   "outputs": [],
   "source": [
    "import matplotlib.pyplot as plt\n",
    "import numpy as np\n",
    "import seaborn as sns\n",
    "import pandas as pd\n",
    "import plotly.graph_objs as go\n",
    "from plotly.offline import iplot, init_notebook_mode\n",
    "\n",
    "%matplotlib inline"
   ]
  },
  {
   "cell_type": "code",
   "execution_count": 2,
   "metadata": {},
   "outputs": [
    {
     "data": {
      "text/html": [
       "        <script type=\"text/javascript\">\n",
       "        window.PlotlyConfig = {MathJaxConfig: 'local'};\n",
       "        if (window.MathJax) {MathJax.Hub.Config({SVG: {font: \"STIX-Web\"}});}\n",
       "        if (typeof require !== 'undefined') {\n",
       "        require.undef(\"plotly\");\n",
       "        requirejs.config({\n",
       "            paths: {\n",
       "                'plotly': ['https://cdn.plot.ly/plotly-latest.min']\n",
       "            }\n",
       "        });\n",
       "        require(['plotly'], function(Plotly) {\n",
       "            window._Plotly = Plotly;\n",
       "        });\n",
       "        }\n",
       "        </script>\n",
       "        "
      ]
     },
     "metadata": {},
     "output_type": "display_data"
    }
   ],
   "source": [
    "init_notebook_mode(connected=True)"
   ]
  },
  {
   "cell_type": "code",
   "execution_count": 4,
   "metadata": {},
   "outputs": [],
   "source": [
    "cdc = pd.read_csv('Provisional_Death_Counts_for_Coronavirus_Disease__COVID-19_.csv')"
   ]
  },
  {
   "cell_type": "code",
   "execution_count": 5,
   "metadata": {},
   "outputs": [
    {
     "data": {
      "text/html": [
       "<div>\n",
       "<style scoped>\n",
       "    .dataframe tbody tr th:only-of-type {\n",
       "        vertical-align: middle;\n",
       "    }\n",
       "\n",
       "    .dataframe tbody tr th {\n",
       "        vertical-align: top;\n",
       "    }\n",
       "\n",
       "    .dataframe thead th {\n",
       "        text-align: right;\n",
       "    }\n",
       "</style>\n",
       "<table border=\"1\" class=\"dataframe\">\n",
       "  <thead>\n",
       "    <tr style=\"text-align: right;\">\n",
       "      <th></th>\n",
       "      <th>Group</th>\n",
       "      <th>Indicator</th>\n",
       "      <th>All COVID-19 Deaths (U07.1)</th>\n",
       "      <th>Deaths from All Causes</th>\n",
       "      <th>Percent of Expected Deaths</th>\n",
       "      <th>All Pneumonia Deaths (J12.0-J18.9)</th>\n",
       "      <th>Deaths with Pneumonia and COVID-19 (J12.0-J18.9 and U07.1)</th>\n",
       "      <th>All Influenza Deaths (J09-J11)</th>\n",
       "    </tr>\n",
       "  </thead>\n",
       "  <tbody>\n",
       "    <tr>\n",
       "      <th>0</th>\n",
       "      <td>By week</td>\n",
       "      <td>Total Deaths</td>\n",
       "      <td>13,130</td>\n",
       "      <td>582,565</td>\n",
       "      <td>0.92</td>\n",
       "      <td>45,019</td>\n",
       "      <td>5,902</td>\n",
       "      <td>5,228</td>\n",
       "    </tr>\n",
       "    <tr>\n",
       "      <th>1</th>\n",
       "      <td>By week</td>\n",
       "      <td>2/1/2020</td>\n",
       "      <td>0</td>\n",
       "      <td>56,589</td>\n",
       "      <td>0.95</td>\n",
       "      <td>3,639</td>\n",
       "      <td>0</td>\n",
       "      <td>454</td>\n",
       "    </tr>\n",
       "    <tr>\n",
       "      <th>2</th>\n",
       "      <td>By week</td>\n",
       "      <td>2/8/2020</td>\n",
       "      <td>0</td>\n",
       "      <td>57,114</td>\n",
       "      <td>0.96</td>\n",
       "      <td>3,633</td>\n",
       "      <td>0</td>\n",
       "      <td>488</td>\n",
       "    </tr>\n",
       "    <tr>\n",
       "      <th>3</th>\n",
       "      <td>By week</td>\n",
       "      <td>2/15/2020</td>\n",
       "      <td>0</td>\n",
       "      <td>56,143</td>\n",
       "      <td>0.95</td>\n",
       "      <td>3,638</td>\n",
       "      <td>0</td>\n",
       "      <td>499</td>\n",
       "    </tr>\n",
       "    <tr>\n",
       "      <th>4</th>\n",
       "      <td>By week</td>\n",
       "      <td>2/22/2020</td>\n",
       "      <td>0</td>\n",
       "      <td>55,690</td>\n",
       "      <td>0.96</td>\n",
       "      <td>3,491</td>\n",
       "      <td>0</td>\n",
       "      <td>516</td>\n",
       "    </tr>\n",
       "  </tbody>\n",
       "</table>\n",
       "</div>"
      ],
      "text/plain": [
       "     Group     Indicator All COVID-19 Deaths (U07.1) Deaths from All Causes  \\\n",
       "0  By week  Total Deaths                      13,130                582,565   \n",
       "1  By week      2/1/2020                           0                 56,589   \n",
       "2  By week      2/8/2020                           0                 57,114   \n",
       "3  By week     2/15/2020                           0                 56,143   \n",
       "4  By week     2/22/2020                           0                 55,690   \n",
       "\n",
       "   Percent of Expected Deaths All Pneumonia Deaths (J12.0-J18.9)  \\\n",
       "0                        0.92                             45,019   \n",
       "1                        0.95                              3,639   \n",
       "2                        0.96                              3,633   \n",
       "3                        0.95                              3,638   \n",
       "4                        0.96                              3,491   \n",
       "\n",
       "  Deaths with Pneumonia and COVID-19 (J12.0-J18.9 and U07.1)  \\\n",
       "0                                              5,902           \n",
       "1                                                  0           \n",
       "2                                                  0           \n",
       "3                                                  0           \n",
       "4                                                  0           \n",
       "\n",
       "  All Influenza Deaths (J09-J11)  \n",
       "0                          5,228  \n",
       "1                            454  \n",
       "2                            488  \n",
       "3                            499  \n",
       "4                            516  "
      ]
     },
     "execution_count": 5,
     "metadata": {},
     "output_type": "execute_result"
    }
   ],
   "source": [
    "cdc.head()"
   ]
  },
  {
   "cell_type": "markdown",
   "metadata": {},
   "source": [
    "# Looking at deaths in USA by week from 2/1/2020 - 4/11/2020"
   ]
  },
  {
   "cell_type": "code",
   "execution_count": 7,
   "metadata": {},
   "outputs": [],
   "source": [
    "by_week = cdc[cdc['Group'] == 'By week']"
   ]
  },
  {
   "cell_type": "code",
   "execution_count": 8,
   "metadata": {},
   "outputs": [
    {
     "data": {
      "text/html": [
       "<div>\n",
       "<style scoped>\n",
       "    .dataframe tbody tr th:only-of-type {\n",
       "        vertical-align: middle;\n",
       "    }\n",
       "\n",
       "    .dataframe tbody tr th {\n",
       "        vertical-align: top;\n",
       "    }\n",
       "\n",
       "    .dataframe thead th {\n",
       "        text-align: right;\n",
       "    }\n",
       "</style>\n",
       "<table border=\"1\" class=\"dataframe\">\n",
       "  <thead>\n",
       "    <tr style=\"text-align: right;\">\n",
       "      <th></th>\n",
       "      <th>Group</th>\n",
       "      <th>Indicator</th>\n",
       "      <th>All COVID-19 Deaths (U07.1)</th>\n",
       "      <th>Deaths from All Causes</th>\n",
       "      <th>Percent of Expected Deaths</th>\n",
       "      <th>All Pneumonia Deaths (J12.0-J18.9)</th>\n",
       "      <th>Deaths with Pneumonia and COVID-19 (J12.0-J18.9 and U07.1)</th>\n",
       "      <th>All Influenza Deaths (J09-J11)</th>\n",
       "    </tr>\n",
       "  </thead>\n",
       "  <tbody>\n",
       "    <tr>\n",
       "      <th>0</th>\n",
       "      <td>By week</td>\n",
       "      <td>Total Deaths</td>\n",
       "      <td>13,130</td>\n",
       "      <td>582,565</td>\n",
       "      <td>0.92</td>\n",
       "      <td>45,019</td>\n",
       "      <td>5,902</td>\n",
       "      <td>5,228</td>\n",
       "    </tr>\n",
       "    <tr>\n",
       "      <th>1</th>\n",
       "      <td>By week</td>\n",
       "      <td>2/1/2020</td>\n",
       "      <td>0</td>\n",
       "      <td>56,589</td>\n",
       "      <td>0.95</td>\n",
       "      <td>3,639</td>\n",
       "      <td>0</td>\n",
       "      <td>454</td>\n",
       "    </tr>\n",
       "    <tr>\n",
       "      <th>2</th>\n",
       "      <td>By week</td>\n",
       "      <td>2/8/2020</td>\n",
       "      <td>0</td>\n",
       "      <td>57,114</td>\n",
       "      <td>0.96</td>\n",
       "      <td>3,633</td>\n",
       "      <td>0</td>\n",
       "      <td>488</td>\n",
       "    </tr>\n",
       "    <tr>\n",
       "      <th>3</th>\n",
       "      <td>By week</td>\n",
       "      <td>2/15/2020</td>\n",
       "      <td>0</td>\n",
       "      <td>56,143</td>\n",
       "      <td>0.95</td>\n",
       "      <td>3,638</td>\n",
       "      <td>0</td>\n",
       "      <td>499</td>\n",
       "    </tr>\n",
       "    <tr>\n",
       "      <th>4</th>\n",
       "      <td>By week</td>\n",
       "      <td>2/22/2020</td>\n",
       "      <td>0</td>\n",
       "      <td>55,690</td>\n",
       "      <td>0.96</td>\n",
       "      <td>3,491</td>\n",
       "      <td>0</td>\n",
       "      <td>516</td>\n",
       "    </tr>\n",
       "    <tr>\n",
       "      <th>5</th>\n",
       "      <td>By week</td>\n",
       "      <td>2/29/2020</td>\n",
       "      <td>5</td>\n",
       "      <td>55,036</td>\n",
       "      <td>0.96</td>\n",
       "      <td>3,516</td>\n",
       "      <td>3</td>\n",
       "      <td>586</td>\n",
       "    </tr>\n",
       "    <tr>\n",
       "      <th>6</th>\n",
       "      <td>By week</td>\n",
       "      <td>3/7/2020</td>\n",
       "      <td>20</td>\n",
       "      <td>54,476</td>\n",
       "      <td>0.94</td>\n",
       "      <td>3,614</td>\n",
       "      <td>11</td>\n",
       "      <td>566</td>\n",
       "    </tr>\n",
       "    <tr>\n",
       "      <th>7</th>\n",
       "      <td>By week</td>\n",
       "      <td>3/14/2020</td>\n",
       "      <td>44</td>\n",
       "      <td>52,704</td>\n",
       "      <td>0.92</td>\n",
       "      <td>3,586</td>\n",
       "      <td>22</td>\n",
       "      <td>558</td>\n",
       "    </tr>\n",
       "    <tr>\n",
       "      <th>8</th>\n",
       "      <td>By week</td>\n",
       "      <td>3/21/2020</td>\n",
       "      <td>454</td>\n",
       "      <td>52,271</td>\n",
       "      <td>0.92</td>\n",
       "      <td>4,005</td>\n",
       "      <td>209</td>\n",
       "      <td>479</td>\n",
       "    </tr>\n",
       "    <tr>\n",
       "      <th>9</th>\n",
       "      <td>By week</td>\n",
       "      <td>3/28/2020</td>\n",
       "      <td>2,339</td>\n",
       "      <td>53,687</td>\n",
       "      <td>0.96</td>\n",
       "      <td>5,185</td>\n",
       "      <td>1,090</td>\n",
       "      <td>368</td>\n",
       "    </tr>\n",
       "    <tr>\n",
       "      <th>10</th>\n",
       "      <td>By week</td>\n",
       "      <td>4/4/2020</td>\n",
       "      <td>5,457</td>\n",
       "      <td>52,992</td>\n",
       "      <td>0.95</td>\n",
       "      <td>6,549</td>\n",
       "      <td>2,620</td>\n",
       "      <td>371</td>\n",
       "    </tr>\n",
       "    <tr>\n",
       "      <th>11</th>\n",
       "      <td>By week</td>\n",
       "      <td>4/11/2020</td>\n",
       "      <td>4,811</td>\n",
       "      <td>35,863</td>\n",
       "      <td>0.65</td>\n",
       "      <td>4,163</td>\n",
       "      <td>1,947</td>\n",
       "      <td>343</td>\n",
       "    </tr>\n",
       "  </tbody>\n",
       "</table>\n",
       "</div>"
      ],
      "text/plain": [
       "      Group     Indicator All COVID-19 Deaths (U07.1) Deaths from All Causes  \\\n",
       "0   By week  Total Deaths                      13,130                582,565   \n",
       "1   By week      2/1/2020                           0                 56,589   \n",
       "2   By week      2/8/2020                           0                 57,114   \n",
       "3   By week     2/15/2020                           0                 56,143   \n",
       "4   By week     2/22/2020                           0                 55,690   \n",
       "5   By week     2/29/2020                           5                 55,036   \n",
       "6   By week      3/7/2020                          20                 54,476   \n",
       "7   By week     3/14/2020                          44                 52,704   \n",
       "8   By week     3/21/2020                         454                 52,271   \n",
       "9   By week     3/28/2020                       2,339                 53,687   \n",
       "10  By week      4/4/2020                       5,457                 52,992   \n",
       "11  By week     4/11/2020                       4,811                 35,863   \n",
       "\n",
       "    Percent of Expected Deaths All Pneumonia Deaths (J12.0-J18.9)  \\\n",
       "0                         0.92                             45,019   \n",
       "1                         0.95                              3,639   \n",
       "2                         0.96                              3,633   \n",
       "3                         0.95                              3,638   \n",
       "4                         0.96                              3,491   \n",
       "5                         0.96                              3,516   \n",
       "6                         0.94                              3,614   \n",
       "7                         0.92                              3,586   \n",
       "8                         0.92                              4,005   \n",
       "9                         0.96                              5,185   \n",
       "10                        0.95                              6,549   \n",
       "11                        0.65                              4,163   \n",
       "\n",
       "   Deaths with Pneumonia and COVID-19 (J12.0-J18.9 and U07.1)  \\\n",
       "0                                               5,902           \n",
       "1                                                   0           \n",
       "2                                                   0           \n",
       "3                                                   0           \n",
       "4                                                   0           \n",
       "5                                                   3           \n",
       "6                                                  11           \n",
       "7                                                  22           \n",
       "8                                                 209           \n",
       "9                                               1,090           \n",
       "10                                              2,620           \n",
       "11                                              1,947           \n",
       "\n",
       "   All Influenza Deaths (J09-J11)  \n",
       "0                           5,228  \n",
       "1                             454  \n",
       "2                             488  \n",
       "3                             499  \n",
       "4                             516  \n",
       "5                             586  \n",
       "6                             566  \n",
       "7                             558  \n",
       "8                             479  \n",
       "9                             368  \n",
       "10                            371  \n",
       "11                            343  "
      ]
     },
     "execution_count": 8,
     "metadata": {},
     "output_type": "execute_result"
    }
   ],
   "source": [
    "by_week"
   ]
  },
  {
   "cell_type": "code",
   "execution_count": 9,
   "metadata": {},
   "outputs": [
    {
     "data": {
      "text/plain": [
       "Index(['Group', 'Indicator', 'All COVID-19 Deaths (U07.1)',\n",
       "       'Deaths from All Causes', 'Percent of Expected Deaths',\n",
       "       'All Pneumonia Deaths (J12.0-J18.9)',\n",
       "       'Deaths with Pneumonia and COVID-19 (J12.0-J18.9 and U07.1)',\n",
       "       'All Influenza Deaths (J09-J11)'],\n",
       "      dtype='object')"
      ]
     },
     "execution_count": 9,
     "metadata": {},
     "output_type": "execute_result"
    }
   ],
   "source": [
    "by_week.columns"
   ]
  },
  {
   "cell_type": "code",
   "execution_count": null,
   "metadata": {},
   "outputs": [],
   "source": [
    "by_week"
   ]
  },
  {
   "cell_type": "code",
   "execution_count": 12,
   "metadata": {},
   "outputs": [
    {
     "data": {
      "application/vnd.plotly.v1+json": {
       "config": {
        "linkText": "Export to plot.ly",
        "plotlyServerURL": "https://plot.ly",
        "showLink": false
       },
       "data": [
        {
         "name": "covid deaths",
         "type": "scatter",
         "x": [
          "2/1/2020",
          "2/8/2020",
          "2/15/2020",
          "2/22/2020",
          "2/29/2020",
          "3/7/2020",
          "3/14/2020",
          "3/21/2020",
          "3/28/2020",
          "4/4/2020",
          "4/11/2020"
         ],
         "y": [
          "0",
          "0",
          "0",
          "0",
          "5",
          "20",
          "44",
          "454",
          "2,339",
          "5,457",
          "4,811"
         ]
        },
        {
         "name": "pneumonia deaths",
         "type": "scatter",
         "x": [
          "2/1/2020",
          "2/8/2020",
          "2/15/2020",
          "2/22/2020",
          "2/29/2020",
          "3/7/2020",
          "3/14/2020",
          "3/21/2020",
          "3/28/2020",
          "4/4/2020",
          "4/11/2020"
         ],
         "y": [
          "3,639",
          "3,633",
          "3,638",
          "3,491",
          "3,516",
          "3,614",
          "3,586",
          "4,005",
          "5,185",
          "6,549",
          "4,163"
         ]
        },
        {
         "name": "deaths ALL causes",
         "type": "scatter",
         "x": [
          "2/1/2020",
          "2/8/2020",
          "2/15/2020",
          "2/22/2020",
          "2/29/2020",
          "3/7/2020",
          "3/14/2020",
          "3/21/2020",
          "3/28/2020",
          "4/4/2020",
          "4/11/2020"
         ],
         "y": [
          "56,589",
          "57,114",
          "56,143",
          "55,690",
          "55,036",
          "54,476",
          "52,704",
          "52,271",
          "53,687",
          "52,992",
          "35,863"
         ]
        }
       ],
       "layout": {
        "template": {
         "data": {
          "bar": [
           {
            "error_x": {
             "color": "#2a3f5f"
            },
            "error_y": {
             "color": "#2a3f5f"
            },
            "marker": {
             "line": {
              "color": "#E5ECF6",
              "width": 0.5
             }
            },
            "type": "bar"
           }
          ],
          "barpolar": [
           {
            "marker": {
             "line": {
              "color": "#E5ECF6",
              "width": 0.5
             }
            },
            "type": "barpolar"
           }
          ],
          "carpet": [
           {
            "aaxis": {
             "endlinecolor": "#2a3f5f",
             "gridcolor": "white",
             "linecolor": "white",
             "minorgridcolor": "white",
             "startlinecolor": "#2a3f5f"
            },
            "baxis": {
             "endlinecolor": "#2a3f5f",
             "gridcolor": "white",
             "linecolor": "white",
             "minorgridcolor": "white",
             "startlinecolor": "#2a3f5f"
            },
            "type": "carpet"
           }
          ],
          "choropleth": [
           {
            "colorbar": {
             "outlinewidth": 0,
             "ticks": ""
            },
            "type": "choropleth"
           }
          ],
          "contour": [
           {
            "colorbar": {
             "outlinewidth": 0,
             "ticks": ""
            },
            "colorscale": [
             [
              0,
              "#0d0887"
             ],
             [
              0.1111111111111111,
              "#46039f"
             ],
             [
              0.2222222222222222,
              "#7201a8"
             ],
             [
              0.3333333333333333,
              "#9c179e"
             ],
             [
              0.4444444444444444,
              "#bd3786"
             ],
             [
              0.5555555555555556,
              "#d8576b"
             ],
             [
              0.6666666666666666,
              "#ed7953"
             ],
             [
              0.7777777777777778,
              "#fb9f3a"
             ],
             [
              0.8888888888888888,
              "#fdca26"
             ],
             [
              1,
              "#f0f921"
             ]
            ],
            "type": "contour"
           }
          ],
          "contourcarpet": [
           {
            "colorbar": {
             "outlinewidth": 0,
             "ticks": ""
            },
            "type": "contourcarpet"
           }
          ],
          "heatmap": [
           {
            "colorbar": {
             "outlinewidth": 0,
             "ticks": ""
            },
            "colorscale": [
             [
              0,
              "#0d0887"
             ],
             [
              0.1111111111111111,
              "#46039f"
             ],
             [
              0.2222222222222222,
              "#7201a8"
             ],
             [
              0.3333333333333333,
              "#9c179e"
             ],
             [
              0.4444444444444444,
              "#bd3786"
             ],
             [
              0.5555555555555556,
              "#d8576b"
             ],
             [
              0.6666666666666666,
              "#ed7953"
             ],
             [
              0.7777777777777778,
              "#fb9f3a"
             ],
             [
              0.8888888888888888,
              "#fdca26"
             ],
             [
              1,
              "#f0f921"
             ]
            ],
            "type": "heatmap"
           }
          ],
          "heatmapgl": [
           {
            "colorbar": {
             "outlinewidth": 0,
             "ticks": ""
            },
            "colorscale": [
             [
              0,
              "#0d0887"
             ],
             [
              0.1111111111111111,
              "#46039f"
             ],
             [
              0.2222222222222222,
              "#7201a8"
             ],
             [
              0.3333333333333333,
              "#9c179e"
             ],
             [
              0.4444444444444444,
              "#bd3786"
             ],
             [
              0.5555555555555556,
              "#d8576b"
             ],
             [
              0.6666666666666666,
              "#ed7953"
             ],
             [
              0.7777777777777778,
              "#fb9f3a"
             ],
             [
              0.8888888888888888,
              "#fdca26"
             ],
             [
              1,
              "#f0f921"
             ]
            ],
            "type": "heatmapgl"
           }
          ],
          "histogram": [
           {
            "marker": {
             "colorbar": {
              "outlinewidth": 0,
              "ticks": ""
             }
            },
            "type": "histogram"
           }
          ],
          "histogram2d": [
           {
            "colorbar": {
             "outlinewidth": 0,
             "ticks": ""
            },
            "colorscale": [
             [
              0,
              "#0d0887"
             ],
             [
              0.1111111111111111,
              "#46039f"
             ],
             [
              0.2222222222222222,
              "#7201a8"
             ],
             [
              0.3333333333333333,
              "#9c179e"
             ],
             [
              0.4444444444444444,
              "#bd3786"
             ],
             [
              0.5555555555555556,
              "#d8576b"
             ],
             [
              0.6666666666666666,
              "#ed7953"
             ],
             [
              0.7777777777777778,
              "#fb9f3a"
             ],
             [
              0.8888888888888888,
              "#fdca26"
             ],
             [
              1,
              "#f0f921"
             ]
            ],
            "type": "histogram2d"
           }
          ],
          "histogram2dcontour": [
           {
            "colorbar": {
             "outlinewidth": 0,
             "ticks": ""
            },
            "colorscale": [
             [
              0,
              "#0d0887"
             ],
             [
              0.1111111111111111,
              "#46039f"
             ],
             [
              0.2222222222222222,
              "#7201a8"
             ],
             [
              0.3333333333333333,
              "#9c179e"
             ],
             [
              0.4444444444444444,
              "#bd3786"
             ],
             [
              0.5555555555555556,
              "#d8576b"
             ],
             [
              0.6666666666666666,
              "#ed7953"
             ],
             [
              0.7777777777777778,
              "#fb9f3a"
             ],
             [
              0.8888888888888888,
              "#fdca26"
             ],
             [
              1,
              "#f0f921"
             ]
            ],
            "type": "histogram2dcontour"
           }
          ],
          "mesh3d": [
           {
            "colorbar": {
             "outlinewidth": 0,
             "ticks": ""
            },
            "type": "mesh3d"
           }
          ],
          "parcoords": [
           {
            "line": {
             "colorbar": {
              "outlinewidth": 0,
              "ticks": ""
             }
            },
            "type": "parcoords"
           }
          ],
          "pie": [
           {
            "automargin": true,
            "type": "pie"
           }
          ],
          "scatter": [
           {
            "marker": {
             "colorbar": {
              "outlinewidth": 0,
              "ticks": ""
             }
            },
            "type": "scatter"
           }
          ],
          "scatter3d": [
           {
            "line": {
             "colorbar": {
              "outlinewidth": 0,
              "ticks": ""
             }
            },
            "marker": {
             "colorbar": {
              "outlinewidth": 0,
              "ticks": ""
             }
            },
            "type": "scatter3d"
           }
          ],
          "scattercarpet": [
           {
            "marker": {
             "colorbar": {
              "outlinewidth": 0,
              "ticks": ""
             }
            },
            "type": "scattercarpet"
           }
          ],
          "scattergeo": [
           {
            "marker": {
             "colorbar": {
              "outlinewidth": 0,
              "ticks": ""
             }
            },
            "type": "scattergeo"
           }
          ],
          "scattergl": [
           {
            "marker": {
             "colorbar": {
              "outlinewidth": 0,
              "ticks": ""
             }
            },
            "type": "scattergl"
           }
          ],
          "scattermapbox": [
           {
            "marker": {
             "colorbar": {
              "outlinewidth": 0,
              "ticks": ""
             }
            },
            "type": "scattermapbox"
           }
          ],
          "scatterpolar": [
           {
            "marker": {
             "colorbar": {
              "outlinewidth": 0,
              "ticks": ""
             }
            },
            "type": "scatterpolar"
           }
          ],
          "scatterpolargl": [
           {
            "marker": {
             "colorbar": {
              "outlinewidth": 0,
              "ticks": ""
             }
            },
            "type": "scatterpolargl"
           }
          ],
          "scatterternary": [
           {
            "marker": {
             "colorbar": {
              "outlinewidth": 0,
              "ticks": ""
             }
            },
            "type": "scatterternary"
           }
          ],
          "surface": [
           {
            "colorbar": {
             "outlinewidth": 0,
             "ticks": ""
            },
            "colorscale": [
             [
              0,
              "#0d0887"
             ],
             [
              0.1111111111111111,
              "#46039f"
             ],
             [
              0.2222222222222222,
              "#7201a8"
             ],
             [
              0.3333333333333333,
              "#9c179e"
             ],
             [
              0.4444444444444444,
              "#bd3786"
             ],
             [
              0.5555555555555556,
              "#d8576b"
             ],
             [
              0.6666666666666666,
              "#ed7953"
             ],
             [
              0.7777777777777778,
              "#fb9f3a"
             ],
             [
              0.8888888888888888,
              "#fdca26"
             ],
             [
              1,
              "#f0f921"
             ]
            ],
            "type": "surface"
           }
          ],
          "table": [
           {
            "cells": {
             "fill": {
              "color": "#EBF0F8"
             },
             "line": {
              "color": "white"
             }
            },
            "header": {
             "fill": {
              "color": "#C8D4E3"
             },
             "line": {
              "color": "white"
             }
            },
            "type": "table"
           }
          ]
         },
         "layout": {
          "annotationdefaults": {
           "arrowcolor": "#2a3f5f",
           "arrowhead": 0,
           "arrowwidth": 1
          },
          "coloraxis": {
           "colorbar": {
            "outlinewidth": 0,
            "ticks": ""
           }
          },
          "colorscale": {
           "diverging": [
            [
             0,
             "#8e0152"
            ],
            [
             0.1,
             "#c51b7d"
            ],
            [
             0.2,
             "#de77ae"
            ],
            [
             0.3,
             "#f1b6da"
            ],
            [
             0.4,
             "#fde0ef"
            ],
            [
             0.5,
             "#f7f7f7"
            ],
            [
             0.6,
             "#e6f5d0"
            ],
            [
             0.7,
             "#b8e186"
            ],
            [
             0.8,
             "#7fbc41"
            ],
            [
             0.9,
             "#4d9221"
            ],
            [
             1,
             "#276419"
            ]
           ],
           "sequential": [
            [
             0,
             "#0d0887"
            ],
            [
             0.1111111111111111,
             "#46039f"
            ],
            [
             0.2222222222222222,
             "#7201a8"
            ],
            [
             0.3333333333333333,
             "#9c179e"
            ],
            [
             0.4444444444444444,
             "#bd3786"
            ],
            [
             0.5555555555555556,
             "#d8576b"
            ],
            [
             0.6666666666666666,
             "#ed7953"
            ],
            [
             0.7777777777777778,
             "#fb9f3a"
            ],
            [
             0.8888888888888888,
             "#fdca26"
            ],
            [
             1,
             "#f0f921"
            ]
           ],
           "sequentialminus": [
            [
             0,
             "#0d0887"
            ],
            [
             0.1111111111111111,
             "#46039f"
            ],
            [
             0.2222222222222222,
             "#7201a8"
            ],
            [
             0.3333333333333333,
             "#9c179e"
            ],
            [
             0.4444444444444444,
             "#bd3786"
            ],
            [
             0.5555555555555556,
             "#d8576b"
            ],
            [
             0.6666666666666666,
             "#ed7953"
            ],
            [
             0.7777777777777778,
             "#fb9f3a"
            ],
            [
             0.8888888888888888,
             "#fdca26"
            ],
            [
             1,
             "#f0f921"
            ]
           ]
          },
          "colorway": [
           "#636efa",
           "#EF553B",
           "#00cc96",
           "#ab63fa",
           "#FFA15A",
           "#19d3f3",
           "#FF6692",
           "#B6E880",
           "#FF97FF",
           "#FECB52"
          ],
          "font": {
           "color": "#2a3f5f"
          },
          "geo": {
           "bgcolor": "white",
           "lakecolor": "white",
           "landcolor": "#E5ECF6",
           "showlakes": true,
           "showland": true,
           "subunitcolor": "white"
          },
          "hoverlabel": {
           "align": "left"
          },
          "hovermode": "closest",
          "mapbox": {
           "style": "light"
          },
          "paper_bgcolor": "white",
          "plot_bgcolor": "#E5ECF6",
          "polar": {
           "angularaxis": {
            "gridcolor": "white",
            "linecolor": "white",
            "ticks": ""
           },
           "bgcolor": "#E5ECF6",
           "radialaxis": {
            "gridcolor": "white",
            "linecolor": "white",
            "ticks": ""
           }
          },
          "scene": {
           "xaxis": {
            "backgroundcolor": "#E5ECF6",
            "gridcolor": "white",
            "gridwidth": 2,
            "linecolor": "white",
            "showbackground": true,
            "ticks": "",
            "zerolinecolor": "white"
           },
           "yaxis": {
            "backgroundcolor": "#E5ECF6",
            "gridcolor": "white",
            "gridwidth": 2,
            "linecolor": "white",
            "showbackground": true,
            "ticks": "",
            "zerolinecolor": "white"
           },
           "zaxis": {
            "backgroundcolor": "#E5ECF6",
            "gridcolor": "white",
            "gridwidth": 2,
            "linecolor": "white",
            "showbackground": true,
            "ticks": "",
            "zerolinecolor": "white"
           }
          },
          "shapedefaults": {
           "line": {
            "color": "#2a3f5f"
           }
          },
          "ternary": {
           "aaxis": {
            "gridcolor": "white",
            "linecolor": "white",
            "ticks": ""
           },
           "baxis": {
            "gridcolor": "white",
            "linecolor": "white",
            "ticks": ""
           },
           "bgcolor": "#E5ECF6",
           "caxis": {
            "gridcolor": "white",
            "linecolor": "white",
            "ticks": ""
           }
          },
          "title": {
           "x": 0.05
          },
          "xaxis": {
           "automargin": true,
           "gridcolor": "white",
           "linecolor": "white",
           "ticks": "",
           "title": {
            "standoff": 15
           },
           "zerolinecolor": "white",
           "zerolinewidth": 2
          },
          "yaxis": {
           "automargin": true,
           "gridcolor": "white",
           "linecolor": "white",
           "ticks": "",
           "title": {
            "standoff": 15
           },
           "zerolinecolor": "white",
           "zerolinewidth": 2
          }
         }
        },
        "title": {
         "text": "USA deaths by week"
        }
       }
      },
      "text/html": [
       "<div>\n",
       "        \n",
       "        \n",
       "            <div id=\"650e281c-33f1-48fd-a5e6-6ae5e5a3c630\" class=\"plotly-graph-div\" style=\"height:525px; width:100%;\"></div>\n",
       "            <script type=\"text/javascript\">\n",
       "                require([\"plotly\"], function(Plotly) {\n",
       "                    window.PLOTLYENV=window.PLOTLYENV || {};\n",
       "                    \n",
       "                if (document.getElementById(\"650e281c-33f1-48fd-a5e6-6ae5e5a3c630\")) {\n",
       "                    Plotly.newPlot(\n",
       "                        '650e281c-33f1-48fd-a5e6-6ae5e5a3c630',\n",
       "                        [{\"name\": \"covid deaths\", \"type\": \"scatter\", \"x\": [\"2/1/2020\", \"2/8/2020\", \"2/15/2020\", \"2/22/2020\", \"2/29/2020\", \"3/7/2020\", \"3/14/2020\", \"3/21/2020\", \"3/28/2020\", \"4/4/2020\", \"4/11/2020\"], \"y\": [\"0\", \"0\", \"0\", \"0\", \"5\", \"20\", \"44\", \"454\", \"2,339\", \"5,457\", \"4,811\"]}, {\"name\": \"pneumonia deaths\", \"type\": \"scatter\", \"x\": [\"2/1/2020\", \"2/8/2020\", \"2/15/2020\", \"2/22/2020\", \"2/29/2020\", \"3/7/2020\", \"3/14/2020\", \"3/21/2020\", \"3/28/2020\", \"4/4/2020\", \"4/11/2020\"], \"y\": [\"3,639\", \"3,633\", \"3,638\", \"3,491\", \"3,516\", \"3,614\", \"3,586\", \"4,005\", \"5,185\", \"6,549\", \"4,163\"]}, {\"name\": \"deaths ALL causes\", \"type\": \"scatter\", \"x\": [\"2/1/2020\", \"2/8/2020\", \"2/15/2020\", \"2/22/2020\", \"2/29/2020\", \"3/7/2020\", \"3/14/2020\", \"3/21/2020\", \"3/28/2020\", \"4/4/2020\", \"4/11/2020\"], \"y\": [\"56,589\", \"57,114\", \"56,143\", \"55,690\", \"55,036\", \"54,476\", \"52,704\", \"52,271\", \"53,687\", \"52,992\", \"35,863\"]}],\n",
       "                        {\"template\": {\"data\": {\"bar\": [{\"error_x\": {\"color\": \"#2a3f5f\"}, \"error_y\": {\"color\": \"#2a3f5f\"}, \"marker\": {\"line\": {\"color\": \"#E5ECF6\", \"width\": 0.5}}, \"type\": \"bar\"}], \"barpolar\": [{\"marker\": {\"line\": {\"color\": \"#E5ECF6\", \"width\": 0.5}}, \"type\": \"barpolar\"}], \"carpet\": [{\"aaxis\": {\"endlinecolor\": \"#2a3f5f\", \"gridcolor\": \"white\", \"linecolor\": \"white\", \"minorgridcolor\": \"white\", \"startlinecolor\": \"#2a3f5f\"}, \"baxis\": {\"endlinecolor\": \"#2a3f5f\", \"gridcolor\": \"white\", \"linecolor\": \"white\", \"minorgridcolor\": \"white\", \"startlinecolor\": \"#2a3f5f\"}, \"type\": \"carpet\"}], \"choropleth\": [{\"colorbar\": {\"outlinewidth\": 0, \"ticks\": \"\"}, \"type\": \"choropleth\"}], \"contour\": [{\"colorbar\": {\"outlinewidth\": 0, \"ticks\": \"\"}, \"colorscale\": [[0.0, \"#0d0887\"], [0.1111111111111111, \"#46039f\"], [0.2222222222222222, \"#7201a8\"], [0.3333333333333333, \"#9c179e\"], [0.4444444444444444, \"#bd3786\"], [0.5555555555555556, \"#d8576b\"], [0.6666666666666666, \"#ed7953\"], [0.7777777777777778, \"#fb9f3a\"], [0.8888888888888888, \"#fdca26\"], [1.0, \"#f0f921\"]], \"type\": \"contour\"}], \"contourcarpet\": [{\"colorbar\": {\"outlinewidth\": 0, \"ticks\": \"\"}, \"type\": \"contourcarpet\"}], \"heatmap\": [{\"colorbar\": {\"outlinewidth\": 0, \"ticks\": \"\"}, \"colorscale\": [[0.0, \"#0d0887\"], [0.1111111111111111, \"#46039f\"], [0.2222222222222222, \"#7201a8\"], [0.3333333333333333, \"#9c179e\"], [0.4444444444444444, \"#bd3786\"], [0.5555555555555556, \"#d8576b\"], [0.6666666666666666, \"#ed7953\"], [0.7777777777777778, \"#fb9f3a\"], [0.8888888888888888, \"#fdca26\"], [1.0, \"#f0f921\"]], \"type\": \"heatmap\"}], \"heatmapgl\": [{\"colorbar\": {\"outlinewidth\": 0, \"ticks\": \"\"}, \"colorscale\": [[0.0, \"#0d0887\"], [0.1111111111111111, \"#46039f\"], [0.2222222222222222, \"#7201a8\"], [0.3333333333333333, \"#9c179e\"], [0.4444444444444444, \"#bd3786\"], [0.5555555555555556, \"#d8576b\"], [0.6666666666666666, \"#ed7953\"], [0.7777777777777778, \"#fb9f3a\"], [0.8888888888888888, \"#fdca26\"], [1.0, \"#f0f921\"]], \"type\": \"heatmapgl\"}], \"histogram\": [{\"marker\": {\"colorbar\": {\"outlinewidth\": 0, \"ticks\": \"\"}}, \"type\": \"histogram\"}], \"histogram2d\": [{\"colorbar\": {\"outlinewidth\": 0, \"ticks\": \"\"}, \"colorscale\": [[0.0, \"#0d0887\"], [0.1111111111111111, \"#46039f\"], [0.2222222222222222, \"#7201a8\"], [0.3333333333333333, \"#9c179e\"], [0.4444444444444444, \"#bd3786\"], [0.5555555555555556, \"#d8576b\"], [0.6666666666666666, \"#ed7953\"], [0.7777777777777778, \"#fb9f3a\"], [0.8888888888888888, \"#fdca26\"], [1.0, \"#f0f921\"]], \"type\": \"histogram2d\"}], \"histogram2dcontour\": [{\"colorbar\": {\"outlinewidth\": 0, \"ticks\": \"\"}, \"colorscale\": [[0.0, \"#0d0887\"], [0.1111111111111111, \"#46039f\"], [0.2222222222222222, \"#7201a8\"], [0.3333333333333333, \"#9c179e\"], [0.4444444444444444, \"#bd3786\"], [0.5555555555555556, \"#d8576b\"], [0.6666666666666666, \"#ed7953\"], [0.7777777777777778, \"#fb9f3a\"], [0.8888888888888888, \"#fdca26\"], [1.0, \"#f0f921\"]], \"type\": \"histogram2dcontour\"}], \"mesh3d\": [{\"colorbar\": {\"outlinewidth\": 0, \"ticks\": \"\"}, \"type\": \"mesh3d\"}], \"parcoords\": [{\"line\": {\"colorbar\": {\"outlinewidth\": 0, \"ticks\": \"\"}}, \"type\": \"parcoords\"}], \"pie\": [{\"automargin\": true, \"type\": \"pie\"}], \"scatter\": [{\"marker\": {\"colorbar\": {\"outlinewidth\": 0, \"ticks\": \"\"}}, \"type\": \"scatter\"}], \"scatter3d\": [{\"line\": {\"colorbar\": {\"outlinewidth\": 0, \"ticks\": \"\"}}, \"marker\": {\"colorbar\": {\"outlinewidth\": 0, \"ticks\": \"\"}}, \"type\": \"scatter3d\"}], \"scattercarpet\": [{\"marker\": {\"colorbar\": {\"outlinewidth\": 0, \"ticks\": \"\"}}, \"type\": \"scattercarpet\"}], \"scattergeo\": [{\"marker\": {\"colorbar\": {\"outlinewidth\": 0, \"ticks\": \"\"}}, \"type\": \"scattergeo\"}], \"scattergl\": [{\"marker\": {\"colorbar\": {\"outlinewidth\": 0, \"ticks\": \"\"}}, \"type\": \"scattergl\"}], \"scattermapbox\": [{\"marker\": {\"colorbar\": {\"outlinewidth\": 0, \"ticks\": \"\"}}, \"type\": \"scattermapbox\"}], \"scatterpolar\": [{\"marker\": {\"colorbar\": {\"outlinewidth\": 0, \"ticks\": \"\"}}, \"type\": \"scatterpolar\"}], \"scatterpolargl\": [{\"marker\": {\"colorbar\": {\"outlinewidth\": 0, \"ticks\": \"\"}}, \"type\": \"scatterpolargl\"}], \"scatterternary\": [{\"marker\": {\"colorbar\": {\"outlinewidth\": 0, \"ticks\": \"\"}}, \"type\": \"scatterternary\"}], \"surface\": [{\"colorbar\": {\"outlinewidth\": 0, \"ticks\": \"\"}, \"colorscale\": [[0.0, \"#0d0887\"], [0.1111111111111111, \"#46039f\"], [0.2222222222222222, \"#7201a8\"], [0.3333333333333333, \"#9c179e\"], [0.4444444444444444, \"#bd3786\"], [0.5555555555555556, \"#d8576b\"], [0.6666666666666666, \"#ed7953\"], [0.7777777777777778, \"#fb9f3a\"], [0.8888888888888888, \"#fdca26\"], [1.0, \"#f0f921\"]], \"type\": \"surface\"}], \"table\": [{\"cells\": {\"fill\": {\"color\": \"#EBF0F8\"}, \"line\": {\"color\": \"white\"}}, \"header\": {\"fill\": {\"color\": \"#C8D4E3\"}, \"line\": {\"color\": \"white\"}}, \"type\": \"table\"}]}, \"layout\": {\"annotationdefaults\": {\"arrowcolor\": \"#2a3f5f\", \"arrowhead\": 0, \"arrowwidth\": 1}, \"coloraxis\": {\"colorbar\": {\"outlinewidth\": 0, \"ticks\": \"\"}}, \"colorscale\": {\"diverging\": [[0, \"#8e0152\"], [0.1, \"#c51b7d\"], [0.2, \"#de77ae\"], [0.3, \"#f1b6da\"], [0.4, \"#fde0ef\"], [0.5, \"#f7f7f7\"], [0.6, \"#e6f5d0\"], [0.7, \"#b8e186\"], [0.8, \"#7fbc41\"], [0.9, \"#4d9221\"], [1, \"#276419\"]], \"sequential\": [[0.0, \"#0d0887\"], [0.1111111111111111, \"#46039f\"], [0.2222222222222222, \"#7201a8\"], [0.3333333333333333, \"#9c179e\"], [0.4444444444444444, \"#bd3786\"], [0.5555555555555556, \"#d8576b\"], [0.6666666666666666, \"#ed7953\"], [0.7777777777777778, \"#fb9f3a\"], [0.8888888888888888, \"#fdca26\"], [1.0, \"#f0f921\"]], \"sequentialminus\": [[0.0, \"#0d0887\"], [0.1111111111111111, \"#46039f\"], [0.2222222222222222, \"#7201a8\"], [0.3333333333333333, \"#9c179e\"], [0.4444444444444444, \"#bd3786\"], [0.5555555555555556, \"#d8576b\"], [0.6666666666666666, \"#ed7953\"], [0.7777777777777778, \"#fb9f3a\"], [0.8888888888888888, \"#fdca26\"], [1.0, \"#f0f921\"]]}, \"colorway\": [\"#636efa\", \"#EF553B\", \"#00cc96\", \"#ab63fa\", \"#FFA15A\", \"#19d3f3\", \"#FF6692\", \"#B6E880\", \"#FF97FF\", \"#FECB52\"], \"font\": {\"color\": \"#2a3f5f\"}, \"geo\": {\"bgcolor\": \"white\", \"lakecolor\": \"white\", \"landcolor\": \"#E5ECF6\", \"showlakes\": true, \"showland\": true, \"subunitcolor\": \"white\"}, \"hoverlabel\": {\"align\": \"left\"}, \"hovermode\": \"closest\", \"mapbox\": {\"style\": \"light\"}, \"paper_bgcolor\": \"white\", \"plot_bgcolor\": \"#E5ECF6\", \"polar\": {\"angularaxis\": {\"gridcolor\": \"white\", \"linecolor\": \"white\", \"ticks\": \"\"}, \"bgcolor\": \"#E5ECF6\", \"radialaxis\": {\"gridcolor\": \"white\", \"linecolor\": \"white\", \"ticks\": \"\"}}, \"scene\": {\"xaxis\": {\"backgroundcolor\": \"#E5ECF6\", \"gridcolor\": \"white\", \"gridwidth\": 2, \"linecolor\": \"white\", \"showbackground\": true, \"ticks\": \"\", \"zerolinecolor\": \"white\"}, \"yaxis\": {\"backgroundcolor\": \"#E5ECF6\", \"gridcolor\": \"white\", \"gridwidth\": 2, \"linecolor\": \"white\", \"showbackground\": true, \"ticks\": \"\", \"zerolinecolor\": \"white\"}, \"zaxis\": {\"backgroundcolor\": \"#E5ECF6\", \"gridcolor\": \"white\", \"gridwidth\": 2, \"linecolor\": \"white\", \"showbackground\": true, \"ticks\": \"\", \"zerolinecolor\": \"white\"}}, \"shapedefaults\": {\"line\": {\"color\": \"#2a3f5f\"}}, \"ternary\": {\"aaxis\": {\"gridcolor\": \"white\", \"linecolor\": \"white\", \"ticks\": \"\"}, \"baxis\": {\"gridcolor\": \"white\", \"linecolor\": \"white\", \"ticks\": \"\"}, \"bgcolor\": \"#E5ECF6\", \"caxis\": {\"gridcolor\": \"white\", \"linecolor\": \"white\", \"ticks\": \"\"}}, \"title\": {\"x\": 0.05}, \"xaxis\": {\"automargin\": true, \"gridcolor\": \"white\", \"linecolor\": \"white\", \"ticks\": \"\", \"title\": {\"standoff\": 15}, \"zerolinecolor\": \"white\", \"zerolinewidth\": 2}, \"yaxis\": {\"automargin\": true, \"gridcolor\": \"white\", \"linecolor\": \"white\", \"ticks\": \"\", \"title\": {\"standoff\": 15}, \"zerolinecolor\": \"white\", \"zerolinewidth\": 2}}}, \"title\": {\"text\": \"USA deaths by week\"}},\n",
       "                        {\"responsive\": true}\n",
       "                    ).then(function(){\n",
       "                            \n",
       "var gd = document.getElementById('650e281c-33f1-48fd-a5e6-6ae5e5a3c630');\n",
       "var x = new MutationObserver(function (mutations, observer) {{\n",
       "        var display = window.getComputedStyle(gd).display;\n",
       "        if (!display || display === 'none') {{\n",
       "            console.log([gd, 'removed!']);\n",
       "            Plotly.purge(gd);\n",
       "            observer.disconnect();\n",
       "        }}\n",
       "}});\n",
       "\n",
       "// Listen for the removal of the full notebook cells\n",
       "var notebookContainer = gd.closest('#notebook-container');\n",
       "if (notebookContainer) {{\n",
       "    x.observe(notebookContainer, {childList: true});\n",
       "}}\n",
       "\n",
       "// Listen for the clearing of the current output cell\n",
       "var outputEl = gd.closest('.output');\n",
       "if (outputEl) {{\n",
       "    x.observe(outputEl, {childList: true});\n",
       "}}\n",
       "\n",
       "                        })\n",
       "                };\n",
       "                });\n",
       "            </script>\n",
       "        </div>"
      ]
     },
     "metadata": {},
     "output_type": "display_data"
    }
   ],
   "source": [
    "wsub = by_week[by_week.index>0]\n",
    "l1 = go.Scatter(x=wsub.Indicator,\n",
    "                y=wsub['All COVID-19 Deaths (U07.1)'],\n",
    "                name='covid deaths'\n",
    "               )\n",
    "\n",
    "l2 = go.Scatter(x=wsub.Indicator, y=wsub['All Pneumonia Deaths (J12.0-J18.9)'],\n",
    "               name='pneumonia deaths')\n",
    "\n",
    "l3 = go.Scatter(x=wsub.Indicator, y=wsub['Deaths from All Causes'],\n",
    "               name='deaths ALL causes')\n",
    "\n",
    "lay = go.Layout(title=\"USA deaths by week\")\n",
    "\n",
    "fig = go.Figure(data=[l1, l2,l3], layout=lay)\n",
    "iplot(fig)\n"
   ]
  },
  {
   "cell_type": "code",
   "execution_count": 20,
   "metadata": {},
   "outputs": [
    {
     "data": {
      "text/plain": [
       "'cdc_data.html'"
      ]
     },
     "execution_count": 20,
     "metadata": {},
     "output_type": "execute_result"
    }
   ],
   "source": [
    "from plotly.offline import plot\n",
    "\n",
    "plot(fig, filename='cdc_data.html')"
   ]
  },
  {
   "cell_type": "code",
   "execution_count": 19,
   "metadata": {},
   "outputs": [
    {
     "name": "stdout",
     "output_type": "stream",
     "text": [
      " Create a plotly graph locally as an HTML document or string.\n",
      "\n",
      "    Example:\n",
      "    ```\n",
      "    from plotly.offline import plot\n",
      "    import plotly.graph_objs as go\n",
      "\n",
      "    plot([go.Scatter(x=[1, 2, 3], y=[3, 2, 6])], filename='my-graph.html')\n",
      "    # We can also download an image of the plot by setting the image parameter\n",
      "    # to the image format we want\n",
      "    plot([go.Scatter(x=[1, 2, 3], y=[3, 2, 6])], filename='my-graph.html',\n",
      "         image='jpeg')\n",
      "    ```\n",
      "    More examples below.\n",
      "\n",
      "    figure_or_data -- a plotly.graph_objs.Figure or plotly.graph_objs.Data or\n",
      "                      dict or list that describes a Plotly graph.\n",
      "                      See https://plot.ly/python/ for examples of\n",
      "                      graph descriptions.\n",
      "\n",
      "    Keyword arguments:\n",
      "    show_link (default=False) -- display a link in the bottom-right corner of\n",
      "        of the chart that will export the chart to Plotly Cloud or\n",
      "        Plotly Enterprise\n",
      "    link_text (default='Export to plot.ly') -- the text of export link\n",
      "    validate (default=True) -- validate that all of the keys in the figure\n",
      "        are valid? omit if your version of plotly.js has become outdated\n",
      "        with your version of graph_reference.json or if you need to include\n",
      "        extra, unnecessary keys in your figure.\n",
      "    output_type ('file' | 'div' - default 'file') -- if 'file', then\n",
      "        the graph is saved as a standalone HTML file and `plot`\n",
      "        returns None.\n",
      "        If 'div', then `plot` returns a string that just contains the\n",
      "        HTML <div> that contains the graph and the script to generate the\n",
      "        graph.\n",
      "        Use 'file' if you want to save and view a single graph at a time\n",
      "        in a standalone HTML file.\n",
      "        Use 'div' if you are embedding these graphs in an HTML file with\n",
      "        other graphs or HTML markup, like a HTML report or an website.\n",
      "    include_plotlyjs (True | False | 'cdn' | 'directory' | path - default=True)\n",
      "        Specifies how the plotly.js library is included in the output html\n",
      "        file or div string.\n",
      "\n",
      "        If True, a script tag containing the plotly.js source code (~3MB)\n",
      "        is included in the output.  HTML files generated with this option are\n",
      "        fully self-contained and can be used offline.\n",
      "\n",
      "        If 'cdn', a script tag that references the plotly.js CDN is included\n",
      "        in the output. HTML files generated with this option are about 3MB\n",
      "        smaller than those generated with include_plotlyjs=True, but they\n",
      "        require an active internet connection in order to load the plotly.js\n",
      "        library.\n",
      "\n",
      "        If 'directory', a script tag is included that references an external\n",
      "        plotly.min.js bundle that is assumed to reside in the same\n",
      "        directory as the HTML file.  If output_type='file' then the\n",
      "        plotly.min.js bundle is copied into the directory of the resulting\n",
      "        HTML file. If a file named plotly.min.js already exists in the output\n",
      "        directory then this file is left unmodified and no copy is performed.\n",
      "        HTML files generated with this option can be used offline, but they\n",
      "        require a copy of the plotly.min.js bundle in the same directory.\n",
      "        This option is useful when many figures will be saved as HTML files in\n",
      "        the same directory because the plotly.js source code will be included\n",
      "        only once per output directory, rather than once per output file.\n",
      "\n",
      "        If a string that ends in '.js', a script tag is included that\n",
      "        references the specified path. This approach can be used to point\n",
      "        the resulting HTML file to an alternative CDN.\n",
      "\n",
      "        If False, no script tag referencing plotly.js is included. This is\n",
      "        useful when output_type='div' and the resulting div string will be\n",
      "        placed inside an HTML document that already loads plotly.js.  This\n",
      "        option is not advised when output_type='file' as it will result in\n",
      "        a non-functional html file.\n",
      "    filename (default='temp-plot.html') -- The local filename to save the\n",
      "        outputted chart to. If the filename already exists, it will be\n",
      "        overwritten. This argument only applies if `output_type` is 'file'.\n",
      "    auto_open (default=True) -- If True, open the saved file in a\n",
      "        web browser after saving.\n",
      "        This argument only applies if `output_type` is 'file'.\n",
      "    image (default=None |'png' |'jpeg' |'svg' |'webp') -- This parameter sets\n",
      "        the format of the image to be downloaded, if we choose to download an\n",
      "        image. This parameter has a default value of None indicating that no\n",
      "        image should be downloaded. Please note: for higher resolution images\n",
      "        and more export options, consider making requests to our image servers.\n",
      "        Type: `help(py.image)` for more details.\n",
      "    image_filename (default='plot_image') -- Sets the name of the file your\n",
      "        image will be saved to. The extension should not be included.\n",
      "    image_height (default=600) -- Specifies the height of the image in `px`.\n",
      "    image_width (default=800) -- Specifies the width of the image in `px`.\n",
      "    config (default=None) -- Plot view options dictionary. Keyword arguments\n",
      "        `show_link` and `link_text` set the associated options in this\n",
      "        dictionary if it doesn't contain them already.\n",
      "    include_mathjax (False | 'cdn' | path - default=False) --\n",
      "        Specifies how the MathJax.js library is included in the output html\n",
      "        file or div string.  MathJax is required in order to display labels\n",
      "        with LaTeX typesetting.\n",
      "\n",
      "        If False, no script tag referencing MathJax.js will be included in the\n",
      "        output. HTML files generated with this option will not be able to\n",
      "        display LaTeX typesetting.\n",
      "\n",
      "        If 'cdn', a script tag that references a MathJax CDN location will be\n",
      "        included in the output.  HTML files generated with this option will be\n",
      "        able to display LaTeX typesetting as long as they have internet access.\n",
      "\n",
      "        If a string that ends in '.js', a script tag is included that\n",
      "        references the specified path. This approach can be used to point the\n",
      "        resulting HTML file to an alternative CDN.\n",
      "    auto_play (default=True) -- Whether to automatically start the animation\n",
      "        sequence on page load if the figure contains frames. Has no effect if\n",
      "        the figure does not contain frames.\n",
      "    animation_opts (default=None) -- Dict of custom animation parameters that\n",
      "        are used for the automatically started animation on page load. This\n",
      "        dict is passed to the function Plotly.animate in Plotly.js. See\n",
      "        https://github.com/plotly/plotly.js/blob/master/src/plots/animation_attributes.js\n",
      "        for available options. Has no effect if the figure\n",
      "        does not contain frames, or auto_play is False.\n",
      "\n",
      "    Example:\n",
      "    ```\n",
      "    from plotly.offline import plot\n",
      "    figure = {'data': [{'x': [0, 1], 'y': [0, 1]}],\n",
      "              'layout': {'xaxis': {'range': [0, 5], 'autorange': False},\n",
      "                         'yaxis': {'range': [0, 5], 'autorange': False},\n",
      "                         'title': 'Start Title'},\n",
      "              'frames': [{'data': [{'x': [1, 2], 'y': [1, 2]}]},\n",
      "                         {'data': [{'x': [1, 4], 'y': [1, 4]}]},\n",
      "                         {'data': [{'x': [3, 4], 'y': [3, 4]}],\n",
      "                          'layout': {'title': 'End Title'}}]}\n",
      "    plot(figure, animation_opts={'frame': {'duration': 1}})\n",
      "    ```\n",
      "    \n"
     ]
    }
   ],
   "source": [
    "print(plot.__doc__)"
   ]
  },
  {
   "cell_type": "code",
   "execution_count": 14,
   "metadata": {},
   "outputs": [
    {
     "data": {
      "text/html": [
       "<div>\n",
       "<style scoped>\n",
       "    .dataframe tbody tr th:only-of-type {\n",
       "        vertical-align: middle;\n",
       "    }\n",
       "\n",
       "    .dataframe tbody tr th {\n",
       "        vertical-align: top;\n",
       "    }\n",
       "\n",
       "    .dataframe thead th {\n",
       "        text-align: right;\n",
       "    }\n",
       "</style>\n",
       "<table border=\"1\" class=\"dataframe\">\n",
       "  <thead>\n",
       "    <tr style=\"text-align: right;\">\n",
       "      <th></th>\n",
       "      <th>Indicator</th>\n",
       "    </tr>\n",
       "    <tr>\n",
       "      <th>Group</th>\n",
       "      <th></th>\n",
       "    </tr>\n",
       "  </thead>\n",
       "  <tbody>\n",
       "    <tr>\n",
       "      <th>By age</th>\n",
       "      <td>12</td>\n",
       "    </tr>\n",
       "    <tr>\n",
       "      <th>By place of death</th>\n",
       "      <td>9</td>\n",
       "    </tr>\n",
       "    <tr>\n",
       "      <th>By sex</th>\n",
       "      <td>4</td>\n",
       "    </tr>\n",
       "    <tr>\n",
       "      <th>By state</th>\n",
       "      <td>54</td>\n",
       "    </tr>\n",
       "    <tr>\n",
       "      <th>By week</th>\n",
       "      <td>12</td>\n",
       "    </tr>\n",
       "  </tbody>\n",
       "</table>\n",
       "</div>"
      ],
      "text/plain": [
       "                   Indicator\n",
       "Group                       \n",
       "By age                    12\n",
       "By place of death          9\n",
       "By sex                     4\n",
       "By state                  54\n",
       "By week                   12"
      ]
     },
     "execution_count": 14,
     "metadata": {},
     "output_type": "execute_result"
    }
   ],
   "source": [
    "cdc.groupby('Group').agg({\n",
    "    'Indicator' : 'count'\n",
    "})"
   ]
  },
  {
   "cell_type": "code",
   "execution_count": 15,
   "metadata": {},
   "outputs": [
    {
     "data": {
      "text/html": [
       "<div>\n",
       "<style scoped>\n",
       "    .dataframe tbody tr th:only-of-type {\n",
       "        vertical-align: middle;\n",
       "    }\n",
       "\n",
       "    .dataframe tbody tr th {\n",
       "        vertical-align: top;\n",
       "    }\n",
       "\n",
       "    .dataframe thead th {\n",
       "        text-align: right;\n",
       "    }\n",
       "</style>\n",
       "<table border=\"1\" class=\"dataframe\">\n",
       "  <thead>\n",
       "    <tr style=\"text-align: right;\">\n",
       "      <th></th>\n",
       "      <th>Group</th>\n",
       "      <th>Indicator</th>\n",
       "      <th>All COVID-19 Deaths (U07.1)</th>\n",
       "      <th>Deaths from All Causes</th>\n",
       "      <th>Percent of Expected Deaths</th>\n",
       "      <th>All Pneumonia Deaths (J12.0-J18.9)</th>\n",
       "      <th>Deaths with Pneumonia and COVID-19 (J12.0-J18.9 and U07.1)</th>\n",
       "      <th>All Influenza Deaths (J09-J11)</th>\n",
       "    </tr>\n",
       "  </thead>\n",
       "  <tbody>\n",
       "    <tr>\n",
       "      <th>24</th>\n",
       "      <td>By state</td>\n",
       "      <td>Total US</td>\n",
       "      <td>13,130</td>\n",
       "      <td>582,565</td>\n",
       "      <td>0.92</td>\n",
       "      <td>45,019</td>\n",
       "      <td>5,902</td>\n",
       "      <td>5,228</td>\n",
       "    </tr>\n",
       "    <tr>\n",
       "      <th>25</th>\n",
       "      <td>By state</td>\n",
       "      <td>Alabama</td>\n",
       "      <td>47</td>\n",
       "      <td>10,346</td>\n",
       "      <td>0.89</td>\n",
       "      <td>610</td>\n",
       "      <td>15</td>\n",
       "      <td>79</td>\n",
       "    </tr>\n",
       "    <tr>\n",
       "      <th>26</th>\n",
       "      <td>By state</td>\n",
       "      <td>Alaska</td>\n",
       "      <td>3</td>\n",
       "      <td>747</td>\n",
       "      <td>0.81</td>\n",
       "      <td>36</td>\n",
       "      <td>2</td>\n",
       "      <td>3</td>\n",
       "    </tr>\n",
       "    <tr>\n",
       "      <th>27</th>\n",
       "      <td>By state</td>\n",
       "      <td>Arizona</td>\n",
       "      <td>62</td>\n",
       "      <td>13,201</td>\n",
       "      <td>0.98</td>\n",
       "      <td>870</td>\n",
       "      <td>37</td>\n",
       "      <td>99</td>\n",
       "    </tr>\n",
       "    <tr>\n",
       "      <th>28</th>\n",
       "      <td>By state</td>\n",
       "      <td>Arkansas</td>\n",
       "      <td>12</td>\n",
       "      <td>6,616</td>\n",
       "      <td>0.93</td>\n",
       "      <td>436</td>\n",
       "      <td>2</td>\n",
       "      <td>64</td>\n",
       "    </tr>\n",
       "    <tr>\n",
       "      <th>29</th>\n",
       "      <td>By state</td>\n",
       "      <td>California</td>\n",
       "      <td>452</td>\n",
       "      <td>58,637</td>\n",
       "      <td>0.96</td>\n",
       "      <td>4,788</td>\n",
       "      <td>246</td>\n",
       "      <td>527</td>\n",
       "    </tr>\n",
       "    <tr>\n",
       "      <th>30</th>\n",
       "      <td>By state</td>\n",
       "      <td>Colorado</td>\n",
       "      <td>211</td>\n",
       "      <td>8,873</td>\n",
       "      <td>1.01</td>\n",
       "      <td>670</td>\n",
       "      <td>131</td>\n",
       "      <td>85</td>\n",
       "    </tr>\n",
       "    <tr>\n",
       "      <th>31</th>\n",
       "      <td>By state</td>\n",
       "      <td>Connecticut</td>\n",
       "      <td>0</td>\n",
       "      <td>0</td>\n",
       "      <td>0.00</td>\n",
       "      <td>0</td>\n",
       "      <td>0</td>\n",
       "      <td>0</td>\n",
       "    </tr>\n",
       "    <tr>\n",
       "      <th>32</th>\n",
       "      <td>By state</td>\n",
       "      <td>Delaware</td>\n",
       "      <td>8</td>\n",
       "      <td>1,517</td>\n",
       "      <td>0.74</td>\n",
       "      <td>74</td>\n",
       "      <td>4</td>\n",
       "      <td>10</td>\n",
       "    </tr>\n",
       "    <tr>\n",
       "      <th>33</th>\n",
       "      <td>By state</td>\n",
       "      <td>District of Columbia</td>\n",
       "      <td>21</td>\n",
       "      <td>1,196</td>\n",
       "      <td>0.90</td>\n",
       "      <td>118</td>\n",
       "      <td>21</td>\n",
       "      <td>6</td>\n",
       "    </tr>\n",
       "    <tr>\n",
       "      <th>34</th>\n",
       "      <td>By state</td>\n",
       "      <td>Florida</td>\n",
       "      <td>405</td>\n",
       "      <td>46,261</td>\n",
       "      <td>0.99</td>\n",
       "      <td>3,232</td>\n",
       "      <td>239</td>\n",
       "      <td>266</td>\n",
       "    </tr>\n",
       "    <tr>\n",
       "      <th>35</th>\n",
       "      <td>By state</td>\n",
       "      <td>Georgia</td>\n",
       "      <td>147</td>\n",
       "      <td>16,138</td>\n",
       "      <td>0.87</td>\n",
       "      <td>948</td>\n",
       "      <td>81</td>\n",
       "      <td>88</td>\n",
       "    </tr>\n",
       "    <tr>\n",
       "      <th>36</th>\n",
       "      <td>By state</td>\n",
       "      <td>Hawaii</td>\n",
       "      <td>5</td>\n",
       "      <td>2,454</td>\n",
       "      <td>0.95</td>\n",
       "      <td>171</td>\n",
       "      <td>2</td>\n",
       "      <td>17</td>\n",
       "    </tr>\n",
       "    <tr>\n",
       "      <th>37</th>\n",
       "      <td>By state</td>\n",
       "      <td>Idaho</td>\n",
       "      <td>25</td>\n",
       "      <td>3,089</td>\n",
       "      <td>0.98</td>\n",
       "      <td>172</td>\n",
       "      <td>7</td>\n",
       "      <td>24</td>\n",
       "    </tr>\n",
       "    <tr>\n",
       "      <th>38</th>\n",
       "      <td>By state</td>\n",
       "      <td>Illinois</td>\n",
       "      <td>246</td>\n",
       "      <td>23,381</td>\n",
       "      <td>0.99</td>\n",
       "      <td>1,794</td>\n",
       "      <td>146</td>\n",
       "      <td>161</td>\n",
       "    </tr>\n",
       "    <tr>\n",
       "      <th>39</th>\n",
       "      <td>By state</td>\n",
       "      <td>Indiana</td>\n",
       "      <td>109</td>\n",
       "      <td>13,965</td>\n",
       "      <td>0.94</td>\n",
       "      <td>1,126</td>\n",
       "      <td>59</td>\n",
       "      <td>117</td>\n",
       "    </tr>\n",
       "    <tr>\n",
       "      <th>40</th>\n",
       "      <td>By state</td>\n",
       "      <td>Iowa</td>\n",
       "      <td>26</td>\n",
       "      <td>6,327</td>\n",
       "      <td>0.94</td>\n",
       "      <td>448</td>\n",
       "      <td>5</td>\n",
       "      <td>77</td>\n",
       "    </tr>\n",
       "    <tr>\n",
       "      <th>41</th>\n",
       "      <td>By state</td>\n",
       "      <td>Kansas</td>\n",
       "      <td>26</td>\n",
       "      <td>5,512</td>\n",
       "      <td>0.92</td>\n",
       "      <td>377</td>\n",
       "      <td>12</td>\n",
       "      <td>82</td>\n",
       "    </tr>\n",
       "    <tr>\n",
       "      <th>42</th>\n",
       "      <td>By state</td>\n",
       "      <td>Kentucky</td>\n",
       "      <td>26</td>\n",
       "      <td>8,985</td>\n",
       "      <td>0.84</td>\n",
       "      <td>778</td>\n",
       "      <td>18</td>\n",
       "      <td>80</td>\n",
       "    </tr>\n",
       "    <tr>\n",
       "      <th>43</th>\n",
       "      <td>By state</td>\n",
       "      <td>Louisiana</td>\n",
       "      <td>278</td>\n",
       "      <td>8,743</td>\n",
       "      <td>0.87</td>\n",
       "      <td>516</td>\n",
       "      <td>119</td>\n",
       "      <td>59</td>\n",
       "    </tr>\n",
       "    <tr>\n",
       "      <th>44</th>\n",
       "      <td>By state</td>\n",
       "      <td>Maine</td>\n",
       "      <td>14</td>\n",
       "      <td>3,239</td>\n",
       "      <td>0.99</td>\n",
       "      <td>277</td>\n",
       "      <td>7</td>\n",
       "      <td>29</td>\n",
       "    </tr>\n",
       "    <tr>\n",
       "      <th>45</th>\n",
       "      <td>By state</td>\n",
       "      <td>Maryland</td>\n",
       "      <td>217</td>\n",
       "      <td>11,162</td>\n",
       "      <td>1.00</td>\n",
       "      <td>908</td>\n",
       "      <td>103</td>\n",
       "      <td>100</td>\n",
       "    </tr>\n",
       "    <tr>\n",
       "      <th>46</th>\n",
       "      <td>By state</td>\n",
       "      <td>Massachusetts</td>\n",
       "      <td>449</td>\n",
       "      <td>13,615</td>\n",
       "      <td>1.01</td>\n",
       "      <td>1,287</td>\n",
       "      <td>196</td>\n",
       "      <td>143</td>\n",
       "    </tr>\n",
       "    <tr>\n",
       "      <th>47</th>\n",
       "      <td>By state</td>\n",
       "      <td>Michigan</td>\n",
       "      <td>529</td>\n",
       "      <td>21,397</td>\n",
       "      <td>0.99</td>\n",
       "      <td>1,628</td>\n",
       "      <td>254</td>\n",
       "      <td>205</td>\n",
       "    </tr>\n",
       "    <tr>\n",
       "      <th>48</th>\n",
       "      <td>By state</td>\n",
       "      <td>Minnesota</td>\n",
       "      <td>55</td>\n",
       "      <td>9,551</td>\n",
       "      <td>0.98</td>\n",
       "      <td>670</td>\n",
       "      <td>21</td>\n",
       "      <td>111</td>\n",
       "    </tr>\n",
       "    <tr>\n",
       "      <th>49</th>\n",
       "      <td>By state</td>\n",
       "      <td>Mississippi</td>\n",
       "      <td>76</td>\n",
       "      <td>6,663</td>\n",
       "      <td>0.96</td>\n",
       "      <td>567</td>\n",
       "      <td>31</td>\n",
       "      <td>52</td>\n",
       "    </tr>\n",
       "    <tr>\n",
       "      <th>50</th>\n",
       "      <td>By state</td>\n",
       "      <td>Missouri</td>\n",
       "      <td>59</td>\n",
       "      <td>12,717</td>\n",
       "      <td>0.88</td>\n",
       "      <td>782</td>\n",
       "      <td>25</td>\n",
       "      <td>161</td>\n",
       "    </tr>\n",
       "    <tr>\n",
       "      <th>51</th>\n",
       "      <td>By state</td>\n",
       "      <td>Montana</td>\n",
       "      <td>3</td>\n",
       "      <td>2,142</td>\n",
       "      <td>0.93</td>\n",
       "      <td>124</td>\n",
       "      <td>1</td>\n",
       "      <td>31</td>\n",
       "    </tr>\n",
       "    <tr>\n",
       "      <th>52</th>\n",
       "      <td>By state</td>\n",
       "      <td>Nebraska</td>\n",
       "      <td>7</td>\n",
       "      <td>3,343</td>\n",
       "      <td>0.88</td>\n",
       "      <td>258</td>\n",
       "      <td>2</td>\n",
       "      <td>25</td>\n",
       "    </tr>\n",
       "    <tr>\n",
       "      <th>53</th>\n",
       "      <td>By state</td>\n",
       "      <td>Nevada</td>\n",
       "      <td>58</td>\n",
       "      <td>5,462</td>\n",
       "      <td>0.96</td>\n",
       "      <td>418</td>\n",
       "      <td>47</td>\n",
       "      <td>34</td>\n",
       "    </tr>\n",
       "    <tr>\n",
       "      <th>54</th>\n",
       "      <td>By state</td>\n",
       "      <td>New Hampshire</td>\n",
       "      <td>30</td>\n",
       "      <td>2,743</td>\n",
       "      <td>1.01</td>\n",
       "      <td>187</td>\n",
       "      <td>11</td>\n",
       "      <td>29</td>\n",
       "    </tr>\n",
       "    <tr>\n",
       "      <th>55</th>\n",
       "      <td>By state</td>\n",
       "      <td>New Jersey</td>\n",
       "      <td>626</td>\n",
       "      <td>17,383</td>\n",
       "      <td>1.04</td>\n",
       "      <td>1,431</td>\n",
       "      <td>327</td>\n",
       "      <td>95</td>\n",
       "    </tr>\n",
       "    <tr>\n",
       "      <th>56</th>\n",
       "      <td>By state</td>\n",
       "      <td>New Mexico</td>\n",
       "      <td>8</td>\n",
       "      <td>3,580</td>\n",
       "      <td>0.87</td>\n",
       "      <td>240</td>\n",
       "      <td>5</td>\n",
       "      <td>23</td>\n",
       "    </tr>\n",
       "    <tr>\n",
       "      <th>57</th>\n",
       "      <td>By state</td>\n",
       "      <td>New York</td>\n",
       "      <td>1,976</td>\n",
       "      <td>24,606</td>\n",
       "      <td>1.10</td>\n",
       "      <td>3,147</td>\n",
       "      <td>1,103</td>\n",
       "      <td>177</td>\n",
       "    </tr>\n",
       "    <tr>\n",
       "      <th>58</th>\n",
       "      <td>By state</td>\n",
       "      <td>New York City</td>\n",
       "      <td>5,530</td>\n",
       "      <td>21,077</td>\n",
       "      <td>1.75</td>\n",
       "      <td>3,588</td>\n",
       "      <td>2,017</td>\n",
       "      <td>589</td>\n",
       "    </tr>\n",
       "    <tr>\n",
       "      <th>59</th>\n",
       "      <td>By state</td>\n",
       "      <td>North Carolina</td>\n",
       "      <td>0</td>\n",
       "      <td>6,827</td>\n",
       "      <td>0.32</td>\n",
       "      <td>422</td>\n",
       "      <td>0</td>\n",
       "      <td>71</td>\n",
       "    </tr>\n",
       "    <tr>\n",
       "      <th>60</th>\n",
       "      <td>By state</td>\n",
       "      <td>North Dakota</td>\n",
       "      <td>3</td>\n",
       "      <td>1,382</td>\n",
       "      <td>0.89</td>\n",
       "      <td>118</td>\n",
       "      <td>0</td>\n",
       "      <td>18</td>\n",
       "    </tr>\n",
       "    <tr>\n",
       "      <th>61</th>\n",
       "      <td>By state</td>\n",
       "      <td>Ohio</td>\n",
       "      <td>38</td>\n",
       "      <td>22,446</td>\n",
       "      <td>0.82</td>\n",
       "      <td>1,186</td>\n",
       "      <td>18</td>\n",
       "      <td>208</td>\n",
       "    </tr>\n",
       "    <tr>\n",
       "      <th>62</th>\n",
       "      <td>By state</td>\n",
       "      <td>Oklahoma</td>\n",
       "      <td>38</td>\n",
       "      <td>7,437</td>\n",
       "      <td>0.83</td>\n",
       "      <td>654</td>\n",
       "      <td>15</td>\n",
       "      <td>86</td>\n",
       "    </tr>\n",
       "    <tr>\n",
       "      <th>63</th>\n",
       "      <td>By state</td>\n",
       "      <td>Oregon</td>\n",
       "      <td>33</td>\n",
       "      <td>7,043</td>\n",
       "      <td>0.87</td>\n",
       "      <td>375</td>\n",
       "      <td>18</td>\n",
       "      <td>53</td>\n",
       "    </tr>\n",
       "    <tr>\n",
       "      <th>64</th>\n",
       "      <td>By state</td>\n",
       "      <td>Pennsylvania</td>\n",
       "      <td>434</td>\n",
       "      <td>22,980</td>\n",
       "      <td>0.75</td>\n",
       "      <td>1,535</td>\n",
       "      <td>189</td>\n",
       "      <td>171</td>\n",
       "    </tr>\n",
       "    <tr>\n",
       "      <th>65</th>\n",
       "      <td>By state</td>\n",
       "      <td>Rhode Island</td>\n",
       "      <td>7</td>\n",
       "      <td>1,829</td>\n",
       "      <td>0.79</td>\n",
       "      <td>92</td>\n",
       "      <td>4</td>\n",
       "      <td>21</td>\n",
       "    </tr>\n",
       "    <tr>\n",
       "      <th>66</th>\n",
       "      <td>By state</td>\n",
       "      <td>South Carolina</td>\n",
       "      <td>76</td>\n",
       "      <td>10,790</td>\n",
       "      <td>0.99</td>\n",
       "      <td>641</td>\n",
       "      <td>32</td>\n",
       "      <td>88</td>\n",
       "    </tr>\n",
       "    <tr>\n",
       "      <th>67</th>\n",
       "      <td>By state</td>\n",
       "      <td>South Dakota</td>\n",
       "      <td>5</td>\n",
       "      <td>1,625</td>\n",
       "      <td>0.89</td>\n",
       "      <td>129</td>\n",
       "      <td>2</td>\n",
       "      <td>18</td>\n",
       "    </tr>\n",
       "    <tr>\n",
       "      <th>68</th>\n",
       "      <td>By state</td>\n",
       "      <td>Tennessee</td>\n",
       "      <td>75</td>\n",
       "      <td>15,583</td>\n",
       "      <td>0.95</td>\n",
       "      <td>1,152</td>\n",
       "      <td>35</td>\n",
       "      <td>117</td>\n",
       "    </tr>\n",
       "    <tr>\n",
       "      <th>69</th>\n",
       "      <td>By state</td>\n",
       "      <td>Texas</td>\n",
       "      <td>126</td>\n",
       "      <td>40,657</td>\n",
       "      <td>0.91</td>\n",
       "      <td>2,908</td>\n",
       "      <td>48</td>\n",
       "      <td>291</td>\n",
       "    </tr>\n",
       "    <tr>\n",
       "      <th>70</th>\n",
       "      <td>By state</td>\n",
       "      <td>Utah</td>\n",
       "      <td>13</td>\n",
       "      <td>4,016</td>\n",
       "      <td>0.97</td>\n",
       "      <td>244</td>\n",
       "      <td>5</td>\n",
       "      <td>37</td>\n",
       "    </tr>\n",
       "    <tr>\n",
       "      <th>71</th>\n",
       "      <td>By state</td>\n",
       "      <td>Vermont</td>\n",
       "      <td>22</td>\n",
       "      <td>1,307</td>\n",
       "      <td>1.02</td>\n",
       "      <td>87</td>\n",
       "      <td>8</td>\n",
       "      <td>14</td>\n",
       "    </tr>\n",
       "    <tr>\n",
       "      <th>72</th>\n",
       "      <td>By state</td>\n",
       "      <td>Virginia</td>\n",
       "      <td>74</td>\n",
       "      <td>14,751</td>\n",
       "      <td>0.97</td>\n",
       "      <td>746</td>\n",
       "      <td>25</td>\n",
       "      <td>93</td>\n",
       "    </tr>\n",
       "    <tr>\n",
       "      <th>73</th>\n",
       "      <td>By state</td>\n",
       "      <td>Washington</td>\n",
       "      <td>357</td>\n",
       "      <td>12,344</td>\n",
       "      <td>0.97</td>\n",
       "      <td>1,007</td>\n",
       "      <td>192</td>\n",
       "      <td>94</td>\n",
       "    </tr>\n",
       "    <tr>\n",
       "      <th>74</th>\n",
       "      <td>By state</td>\n",
       "      <td>West Virginia</td>\n",
       "      <td>1</td>\n",
       "      <td>4,211</td>\n",
       "      <td>0.83</td>\n",
       "      <td>298</td>\n",
       "      <td>0</td>\n",
       "      <td>52</td>\n",
       "    </tr>\n",
       "    <tr>\n",
       "      <th>75</th>\n",
       "      <td>By state</td>\n",
       "      <td>Wisconsin</td>\n",
       "      <td>82</td>\n",
       "      <td>11,716</td>\n",
       "      <td>1.00</td>\n",
       "      <td>674</td>\n",
       "      <td>15</td>\n",
       "      <td>141</td>\n",
       "    </tr>\n",
       "    <tr>\n",
       "      <th>76</th>\n",
       "      <td>By state</td>\n",
       "      <td>Wyoming</td>\n",
       "      <td>0</td>\n",
       "      <td>953</td>\n",
       "      <td>0.96</td>\n",
       "      <td>75</td>\n",
       "      <td>0</td>\n",
       "      <td>7</td>\n",
       "    </tr>\n",
       "    <tr>\n",
       "      <th>77</th>\n",
       "      <td>By state</td>\n",
       "      <td>Puerto Rico</td>\n",
       "      <td>34</td>\n",
       "      <td>4,155</td>\n",
       "      <td>0.65</td>\n",
       "      <td>591</td>\n",
       "      <td>18</td>\n",
       "      <td>26</td>\n",
       "    </tr>\n",
       "  </tbody>\n",
       "</table>\n",
       "</div>"
      ],
      "text/plain": [
       "       Group             Indicator All COVID-19 Deaths (U07.1)  \\\n",
       "24  By state              Total US                      13,130   \n",
       "25  By state               Alabama                          47   \n",
       "26  By state                Alaska                           3   \n",
       "27  By state               Arizona                          62   \n",
       "28  By state              Arkansas                          12   \n",
       "29  By state            California                         452   \n",
       "30  By state              Colorado                         211   \n",
       "31  By state           Connecticut                           0   \n",
       "32  By state              Delaware                           8   \n",
       "33  By state  District of Columbia                          21   \n",
       "34  By state               Florida                         405   \n",
       "35  By state               Georgia                         147   \n",
       "36  By state                Hawaii                           5   \n",
       "37  By state                 Idaho                          25   \n",
       "38  By state              Illinois                         246   \n",
       "39  By state               Indiana                         109   \n",
       "40  By state                  Iowa                          26   \n",
       "41  By state                Kansas                          26   \n",
       "42  By state              Kentucky                          26   \n",
       "43  By state             Louisiana                         278   \n",
       "44  By state                 Maine                          14   \n",
       "45  By state              Maryland                         217   \n",
       "46  By state         Massachusetts                         449   \n",
       "47  By state              Michigan                         529   \n",
       "48  By state             Minnesota                          55   \n",
       "49  By state           Mississippi                          76   \n",
       "50  By state              Missouri                          59   \n",
       "51  By state               Montana                           3   \n",
       "52  By state              Nebraska                           7   \n",
       "53  By state                Nevada                          58   \n",
       "54  By state         New Hampshire                          30   \n",
       "55  By state            New Jersey                         626   \n",
       "56  By state            New Mexico                           8   \n",
       "57  By state              New York                       1,976   \n",
       "58  By state         New York City                       5,530   \n",
       "59  By state        North Carolina                           0   \n",
       "60  By state          North Dakota                           3   \n",
       "61  By state                  Ohio                          38   \n",
       "62  By state              Oklahoma                          38   \n",
       "63  By state                Oregon                          33   \n",
       "64  By state          Pennsylvania                         434   \n",
       "65  By state          Rhode Island                           7   \n",
       "66  By state        South Carolina                          76   \n",
       "67  By state          South Dakota                           5   \n",
       "68  By state             Tennessee                          75   \n",
       "69  By state                 Texas                         126   \n",
       "70  By state                  Utah                          13   \n",
       "71  By state               Vermont                          22   \n",
       "72  By state              Virginia                          74   \n",
       "73  By state            Washington                         357   \n",
       "74  By state         West Virginia                           1   \n",
       "75  By state             Wisconsin                          82   \n",
       "76  By state               Wyoming                           0   \n",
       "77  By state           Puerto Rico                          34   \n",
       "\n",
       "   Deaths from All Causes  Percent of Expected Deaths  \\\n",
       "24                582,565                        0.92   \n",
       "25                 10,346                        0.89   \n",
       "26                    747                        0.81   \n",
       "27                 13,201                        0.98   \n",
       "28                  6,616                        0.93   \n",
       "29                 58,637                        0.96   \n",
       "30                  8,873                        1.01   \n",
       "31                      0                        0.00   \n",
       "32                  1,517                        0.74   \n",
       "33                  1,196                        0.90   \n",
       "34                 46,261                        0.99   \n",
       "35                 16,138                        0.87   \n",
       "36                  2,454                        0.95   \n",
       "37                  3,089                        0.98   \n",
       "38                 23,381                        0.99   \n",
       "39                 13,965                        0.94   \n",
       "40                  6,327                        0.94   \n",
       "41                  5,512                        0.92   \n",
       "42                  8,985                        0.84   \n",
       "43                  8,743                        0.87   \n",
       "44                  3,239                        0.99   \n",
       "45                 11,162                        1.00   \n",
       "46                 13,615                        1.01   \n",
       "47                 21,397                        0.99   \n",
       "48                  9,551                        0.98   \n",
       "49                  6,663                        0.96   \n",
       "50                 12,717                        0.88   \n",
       "51                  2,142                        0.93   \n",
       "52                  3,343                        0.88   \n",
       "53                  5,462                        0.96   \n",
       "54                  2,743                        1.01   \n",
       "55                 17,383                        1.04   \n",
       "56                  3,580                        0.87   \n",
       "57                 24,606                        1.10   \n",
       "58                 21,077                        1.75   \n",
       "59                  6,827                        0.32   \n",
       "60                  1,382                        0.89   \n",
       "61                 22,446                        0.82   \n",
       "62                  7,437                        0.83   \n",
       "63                  7,043                        0.87   \n",
       "64                 22,980                        0.75   \n",
       "65                  1,829                        0.79   \n",
       "66                 10,790                        0.99   \n",
       "67                  1,625                        0.89   \n",
       "68                 15,583                        0.95   \n",
       "69                 40,657                        0.91   \n",
       "70                  4,016                        0.97   \n",
       "71                  1,307                        1.02   \n",
       "72                 14,751                        0.97   \n",
       "73                 12,344                        0.97   \n",
       "74                  4,211                        0.83   \n",
       "75                 11,716                        1.00   \n",
       "76                    953                        0.96   \n",
       "77                  4,155                        0.65   \n",
       "\n",
       "   All Pneumonia Deaths (J12.0-J18.9)  \\\n",
       "24                             45,019   \n",
       "25                                610   \n",
       "26                                 36   \n",
       "27                                870   \n",
       "28                                436   \n",
       "29                              4,788   \n",
       "30                                670   \n",
       "31                                  0   \n",
       "32                                 74   \n",
       "33                                118   \n",
       "34                              3,232   \n",
       "35                                948   \n",
       "36                                171   \n",
       "37                                172   \n",
       "38                              1,794   \n",
       "39                              1,126   \n",
       "40                                448   \n",
       "41                                377   \n",
       "42                                778   \n",
       "43                                516   \n",
       "44                                277   \n",
       "45                                908   \n",
       "46                              1,287   \n",
       "47                              1,628   \n",
       "48                                670   \n",
       "49                                567   \n",
       "50                                782   \n",
       "51                                124   \n",
       "52                                258   \n",
       "53                                418   \n",
       "54                                187   \n",
       "55                              1,431   \n",
       "56                                240   \n",
       "57                              3,147   \n",
       "58                              3,588   \n",
       "59                                422   \n",
       "60                                118   \n",
       "61                              1,186   \n",
       "62                                654   \n",
       "63                                375   \n",
       "64                              1,535   \n",
       "65                                 92   \n",
       "66                                641   \n",
       "67                                129   \n",
       "68                              1,152   \n",
       "69                              2,908   \n",
       "70                                244   \n",
       "71                                 87   \n",
       "72                                746   \n",
       "73                              1,007   \n",
       "74                                298   \n",
       "75                                674   \n",
       "76                                 75   \n",
       "77                                591   \n",
       "\n",
       "   Deaths with Pneumonia and COVID-19 (J12.0-J18.9 and U07.1)  \\\n",
       "24                                              5,902           \n",
       "25                                                 15           \n",
       "26                                                  2           \n",
       "27                                                 37           \n",
       "28                                                  2           \n",
       "29                                                246           \n",
       "30                                                131           \n",
       "31                                                  0           \n",
       "32                                                  4           \n",
       "33                                                 21           \n",
       "34                                                239           \n",
       "35                                                 81           \n",
       "36                                                  2           \n",
       "37                                                  7           \n",
       "38                                                146           \n",
       "39                                                 59           \n",
       "40                                                  5           \n",
       "41                                                 12           \n",
       "42                                                 18           \n",
       "43                                                119           \n",
       "44                                                  7           \n",
       "45                                                103           \n",
       "46                                                196           \n",
       "47                                                254           \n",
       "48                                                 21           \n",
       "49                                                 31           \n",
       "50                                                 25           \n",
       "51                                                  1           \n",
       "52                                                  2           \n",
       "53                                                 47           \n",
       "54                                                 11           \n",
       "55                                                327           \n",
       "56                                                  5           \n",
       "57                                              1,103           \n",
       "58                                              2,017           \n",
       "59                                                  0           \n",
       "60                                                  0           \n",
       "61                                                 18           \n",
       "62                                                 15           \n",
       "63                                                 18           \n",
       "64                                                189           \n",
       "65                                                  4           \n",
       "66                                                 32           \n",
       "67                                                  2           \n",
       "68                                                 35           \n",
       "69                                                 48           \n",
       "70                                                  5           \n",
       "71                                                  8           \n",
       "72                                                 25           \n",
       "73                                                192           \n",
       "74                                                  0           \n",
       "75                                                 15           \n",
       "76                                                  0           \n",
       "77                                                 18           \n",
       "\n",
       "   All Influenza Deaths (J09-J11)  \n",
       "24                          5,228  \n",
       "25                             79  \n",
       "26                              3  \n",
       "27                             99  \n",
       "28                             64  \n",
       "29                            527  \n",
       "30                             85  \n",
       "31                              0  \n",
       "32                             10  \n",
       "33                              6  \n",
       "34                            266  \n",
       "35                             88  \n",
       "36                             17  \n",
       "37                             24  \n",
       "38                            161  \n",
       "39                            117  \n",
       "40                             77  \n",
       "41                             82  \n",
       "42                             80  \n",
       "43                             59  \n",
       "44                             29  \n",
       "45                            100  \n",
       "46                            143  \n",
       "47                            205  \n",
       "48                            111  \n",
       "49                             52  \n",
       "50                            161  \n",
       "51                             31  \n",
       "52                             25  \n",
       "53                             34  \n",
       "54                             29  \n",
       "55                             95  \n",
       "56                             23  \n",
       "57                            177  \n",
       "58                            589  \n",
       "59                             71  \n",
       "60                             18  \n",
       "61                            208  \n",
       "62                             86  \n",
       "63                             53  \n",
       "64                            171  \n",
       "65                             21  \n",
       "66                             88  \n",
       "67                             18  \n",
       "68                            117  \n",
       "69                            291  \n",
       "70                             37  \n",
       "71                             14  \n",
       "72                             93  \n",
       "73                             94  \n",
       "74                             52  \n",
       "75                            141  \n",
       "76                              7  \n",
       "77                             26  "
      ]
     },
     "execution_count": 15,
     "metadata": {},
     "output_type": "execute_result"
    }
   ],
   "source": [
    "cdc[cdc['Group'] == 'By state']"
   ]
  },
  {
   "cell_type": "code",
   "execution_count": 23,
   "metadata": {},
   "outputs": [
    {
     "name": "stdout",
     "output_type": "stream",
     "text": [
      "COVID-19 percentage of all Deaths in USA 2/1/20 - 4/11/20:  0.02\n"
     ]
    }
   ],
   "source": [
    "print(\"COVID-19 percentage of all Deaths in USA 2/1/20 - 4/11/20: \", round(13130.0 / 582565, 2))"
   ]
  },
  {
   "cell_type": "code",
   "execution_count": null,
   "metadata": {},
   "outputs": [],
   "source": []
  }
 ],
 "metadata": {
  "kernelspec": {
   "display_name": "Python 3",
   "language": "python",
   "name": "python3"
  },
  "language_info": {
   "codemirror_mode": {
    "name": "ipython",
    "version": 3
   },
   "file_extension": ".py",
   "mimetype": "text/x-python",
   "name": "python",
   "nbconvert_exporter": "python",
   "pygments_lexer": "ipython3",
   "version": "3.8.0"
  }
 },
 "nbformat": 4,
 "nbformat_minor": 2
}
